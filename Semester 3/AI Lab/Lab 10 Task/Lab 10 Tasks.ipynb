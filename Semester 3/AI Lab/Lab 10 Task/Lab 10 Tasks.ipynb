{
 "cells": [
  {
   "cell_type": "markdown",
   "id": "8b7848e6-86c3-4202-a5e3-917b8a2f8a08",
   "metadata": {},
   "source": [
    "Lab 10 Task\n",
    "Task 1: Run the following provided file\n",
    "* Improve its Accuracy\n",
    "* Check if there's anything else required to be done\n"
   ]
  },
  {
   "cell_type": "code",
   "execution_count": 6,
   "id": "fec94bab-3f5b-4b81-810c-4dec2b9a32fc",
   "metadata": {},
   "outputs": [],
   "source": [
    "import pandas as pd"
   ]
  },
  {
   "cell_type": "code",
   "execution_count": 8,
   "id": "30bc7204-7217-4ce1-8212-46cc4159f909",
   "metadata": {},
   "outputs": [],
   "source": [
    "data = pd.read_csv(\"D:/Downloads/Data/Data/data.csv\")"
   ]
  },
  {
   "cell_type": "code",
   "execution_count": 10,
   "id": "1b7cb3f8-77a7-4cd6-98b3-dcbeff4e9a48",
   "metadata": {},
   "outputs": [
    {
     "data": {
      "text/html": [
       "<div>\n",
       "<style scoped>\n",
       "    .dataframe tbody tr th:only-of-type {\n",
       "        vertical-align: middle;\n",
       "    }\n",
       "\n",
       "    .dataframe tbody tr th {\n",
       "        vertical-align: top;\n",
       "    }\n",
       "\n",
       "    .dataframe thead th {\n",
       "        text-align: right;\n",
       "    }\n",
       "</style>\n",
       "<table border=\"1\" class=\"dataframe\">\n",
       "  <thead>\n",
       "    <tr style=\"text-align: right;\">\n",
       "      <th></th>\n",
       "      <th>date</th>\n",
       "      <th>price</th>\n",
       "      <th>bedrooms</th>\n",
       "      <th>bathrooms</th>\n",
       "      <th>sqft_living</th>\n",
       "      <th>sqft_lot</th>\n",
       "      <th>floors</th>\n",
       "      <th>waterfront</th>\n",
       "      <th>view</th>\n",
       "      <th>condition</th>\n",
       "      <th>sqft_above</th>\n",
       "      <th>sqft_basement</th>\n",
       "      <th>yr_built</th>\n",
       "      <th>yr_renovated</th>\n",
       "      <th>street</th>\n",
       "      <th>city</th>\n",
       "      <th>statezip</th>\n",
       "      <th>country</th>\n",
       "    </tr>\n",
       "  </thead>\n",
       "  <tbody>\n",
       "    <tr>\n",
       "      <th>0</th>\n",
       "      <td>5/2/2014 0:00</td>\n",
       "      <td>313000.0</td>\n",
       "      <td>3.0</td>\n",
       "      <td>1.50</td>\n",
       "      <td>1340.0</td>\n",
       "      <td>7912.0</td>\n",
       "      <td>1.5</td>\n",
       "      <td>0.0</td>\n",
       "      <td>0.0</td>\n",
       "      <td>3</td>\n",
       "      <td>1340.0</td>\n",
       "      <td>0.0</td>\n",
       "      <td>1955.0</td>\n",
       "      <td>2005</td>\n",
       "      <td>18810 Densmore Ave N</td>\n",
       "      <td>Shoreline</td>\n",
       "      <td>WA 98133</td>\n",
       "      <td>USA</td>\n",
       "    </tr>\n",
       "    <tr>\n",
       "      <th>1</th>\n",
       "      <td>5/2/2014 0:00</td>\n",
       "      <td>2384000.0</td>\n",
       "      <td>5.0</td>\n",
       "      <td>2.50</td>\n",
       "      <td>3650.0</td>\n",
       "      <td>9050.0</td>\n",
       "      <td>2.0</td>\n",
       "      <td>0.0</td>\n",
       "      <td>4.0</td>\n",
       "      <td>5</td>\n",
       "      <td>3370.0</td>\n",
       "      <td>280.0</td>\n",
       "      <td>1921.0</td>\n",
       "      <td>0</td>\n",
       "      <td>709 W Blaine St</td>\n",
       "      <td>Seattle</td>\n",
       "      <td>WA 98119</td>\n",
       "      <td>USA</td>\n",
       "    </tr>\n",
       "    <tr>\n",
       "      <th>2</th>\n",
       "      <td>5/2/2014 0:00</td>\n",
       "      <td>342000.0</td>\n",
       "      <td>3.0</td>\n",
       "      <td>2.00</td>\n",
       "      <td>1930.0</td>\n",
       "      <td>11947.0</td>\n",
       "      <td>1.0</td>\n",
       "      <td>0.0</td>\n",
       "      <td>0.0</td>\n",
       "      <td>4</td>\n",
       "      <td>1930.0</td>\n",
       "      <td>0.0</td>\n",
       "      <td>1966.0</td>\n",
       "      <td>0</td>\n",
       "      <td>26206-26214 143rd Ave SE</td>\n",
       "      <td>Kent</td>\n",
       "      <td>WA 98042</td>\n",
       "      <td>USA</td>\n",
       "    </tr>\n",
       "    <tr>\n",
       "      <th>3</th>\n",
       "      <td>5/2/2014 0:00</td>\n",
       "      <td>420000.0</td>\n",
       "      <td>3.0</td>\n",
       "      <td>2.25</td>\n",
       "      <td>2000.0</td>\n",
       "      <td>8030.0</td>\n",
       "      <td>1.0</td>\n",
       "      <td>0.0</td>\n",
       "      <td>0.0</td>\n",
       "      <td>4</td>\n",
       "      <td>1000.0</td>\n",
       "      <td>1000.0</td>\n",
       "      <td>1963.0</td>\n",
       "      <td>0</td>\n",
       "      <td>857 170th Pl NE</td>\n",
       "      <td>Bellevue</td>\n",
       "      <td>WA 98008</td>\n",
       "      <td>USA</td>\n",
       "    </tr>\n",
       "    <tr>\n",
       "      <th>4</th>\n",
       "      <td>5/2/2014 0:00</td>\n",
       "      <td>550000.0</td>\n",
       "      <td>4.0</td>\n",
       "      <td>2.50</td>\n",
       "      <td>1940.0</td>\n",
       "      <td>10500.0</td>\n",
       "      <td>1.0</td>\n",
       "      <td>0.0</td>\n",
       "      <td>0.0</td>\n",
       "      <td>4</td>\n",
       "      <td>1140.0</td>\n",
       "      <td>800.0</td>\n",
       "      <td>1976.0</td>\n",
       "      <td>1992</td>\n",
       "      <td>9105 170th Ave NE</td>\n",
       "      <td>Redmond</td>\n",
       "      <td>WA 98052</td>\n",
       "      <td>USA</td>\n",
       "    </tr>\n",
       "  </tbody>\n",
       "</table>\n",
       "</div>"
      ],
      "text/plain": [
       "            date      price  bedrooms  bathrooms  sqft_living  sqft_lot  \\\n",
       "0  5/2/2014 0:00   313000.0       3.0       1.50       1340.0    7912.0   \n",
       "1  5/2/2014 0:00  2384000.0       5.0       2.50       3650.0    9050.0   \n",
       "2  5/2/2014 0:00   342000.0       3.0       2.00       1930.0   11947.0   \n",
       "3  5/2/2014 0:00   420000.0       3.0       2.25       2000.0    8030.0   \n",
       "4  5/2/2014 0:00   550000.0       4.0       2.50       1940.0   10500.0   \n",
       "\n",
       "   floors  waterfront  view  condition  sqft_above  sqft_basement  yr_built  \\\n",
       "0     1.5         0.0   0.0          3      1340.0            0.0    1955.0   \n",
       "1     2.0         0.0   4.0          5      3370.0          280.0    1921.0   \n",
       "2     1.0         0.0   0.0          4      1930.0            0.0    1966.0   \n",
       "3     1.0         0.0   0.0          4      1000.0         1000.0    1963.0   \n",
       "4     1.0         0.0   0.0          4      1140.0          800.0    1976.0   \n",
       "\n",
       "   yr_renovated                    street       city  statezip country  \n",
       "0          2005      18810 Densmore Ave N  Shoreline  WA 98133     USA  \n",
       "1             0           709 W Blaine St    Seattle  WA 98119     USA  \n",
       "2             0  26206-26214 143rd Ave SE       Kent  WA 98042     USA  \n",
       "3             0           857 170th Pl NE   Bellevue  WA 98008     USA  \n",
       "4          1992         9105 170th Ave NE    Redmond  WA 98052     USA  "
      ]
     },
     "execution_count": 10,
     "metadata": {},
     "output_type": "execute_result"
    }
   ],
   "source": [
    "data.head()"
   ]
  },
  {
   "cell_type": "code",
   "execution_count": 12,
   "id": "1d590af2-b1e4-4843-b340-8c4eb0518d54",
   "metadata": {},
   "outputs": [
    {
     "name": "stdout",
     "output_type": "stream",
     "text": [
      "rows: 4600\n",
      "columns: 18\n"
     ]
    }
   ],
   "source": [
    "print(\"rows:\",data.shape[0])\n",
    "print(\"columns:\",data.shape[1])"
   ]
  },
  {
   "cell_type": "code",
   "execution_count": 14,
   "id": "25d2fb73-c249-4a9a-9d10-3e593bbd910a",
   "metadata": {},
   "outputs": [
    {
     "name": "stdout",
     "output_type": "stream",
     "text": [
      "<class 'pandas.core.frame.DataFrame'>\n",
      "RangeIndex: 4600 entries, 0 to 4599\n",
      "Data columns (total 18 columns):\n",
      " #   Column         Non-Null Count  Dtype  \n",
      "---  ------         --------------  -----  \n",
      " 0   date           4600 non-null   object \n",
      " 1   price          4597 non-null   float64\n",
      " 2   bedrooms       4595 non-null   float64\n",
      " 3   bathrooms      4598 non-null   float64\n",
      " 4   sqft_living    4598 non-null   float64\n",
      " 5   sqft_lot       4598 non-null   float64\n",
      " 6   floors         4598 non-null   float64\n",
      " 7   waterfront     4595 non-null   float64\n",
      " 8   view           4598 non-null   float64\n",
      " 9   condition      4600 non-null   int64  \n",
      " 10  sqft_above     4597 non-null   float64\n",
      " 11  sqft_basement  4597 non-null   float64\n",
      " 12  yr_built       4594 non-null   float64\n",
      " 13  yr_renovated   4600 non-null   int64  \n",
      " 14  street         4597 non-null   object \n",
      " 15  city           4596 non-null   object \n",
      " 16  statezip       4597 non-null   object \n",
      " 17  country        4594 non-null   object \n",
      "dtypes: float64(11), int64(2), object(5)\n",
      "memory usage: 647.0+ KB\n"
     ]
    }
   ],
   "source": [
    "data.info()"
   ]
  },
  {
   "cell_type": "code",
   "execution_count": 49,
   "id": "190fd654-1d94-4b0f-b305-10ee139707cb",
   "metadata": {},
   "outputs": [
    {
     "data": {
      "text/plain": [
       "date             0\n",
       "price            0\n",
       "bedrooms         0\n",
       "bathrooms        0\n",
       "sqft_living      0\n",
       "sqft_lot         0\n",
       "floors           0\n",
       "waterfront       0\n",
       "view             0\n",
       "condition        0\n",
       "sqft_above       0\n",
       "sqft_basement    0\n",
       "yr_built         0\n",
       "yr_renovated     0\n",
       "street           0\n",
       "city             0\n",
       "statezip         0\n",
       "country          0\n",
       "dtype: int64"
      ]
     },
     "execution_count": 49,
     "metadata": {},
     "output_type": "execute_result"
    }
   ],
   "source": [
    "data.isnull().sum()"
   ]
  },
  {
   "cell_type": "code",
   "execution_count": 51,
   "id": "bfbbccce-5c00-4381-817c-76f734ca3961",
   "metadata": {},
   "outputs": [],
   "source": [
    "def fill_values(data,colmns):\n",
    "    for colmn in colmns:\n",
    "        if data[colmn].dtype == object:\n",
    "            data[colmn] = data[colmn].fillna(data[colmn].mode()[0])\n",
    "        elif data[colmn].dtype == 'float64':\n",
    "            data[colmn] = data[colmn].fillna(data[colmn].mean())\n",
    "        elif data[colmn].dtype == 'int64':\n",
    "            data[colmn] = data[colmn].fillna(data[colmn].mean())\n",
    "colmns = ['street','city','price','bedrooms','bathrooms','sqft_living','sqft_lot','floors','waterfront','view','sqft_above','sqft_basement','yr_built','statezip','country']\n",
    "fill_values(data,colmns)"
   ]
  },
  {
   "cell_type": "code",
   "execution_count": 20,
   "id": "eda4ca33-a171-46e7-abf2-fbee65f05f39",
   "metadata": {},
   "outputs": [
    {
     "data": {
      "text/plain": [
       "date             0\n",
       "price            0\n",
       "bedrooms         0\n",
       "bathrooms        0\n",
       "sqft_living      0\n",
       "sqft_lot         0\n",
       "floors           0\n",
       "waterfront       0\n",
       "view             0\n",
       "condition        0\n",
       "sqft_above       0\n",
       "sqft_basement    0\n",
       "yr_built         0\n",
       "yr_renovated     0\n",
       "street           0\n",
       "city             0\n",
       "statezip         0\n",
       "country          0\n",
       "dtype: int64"
      ]
     },
     "execution_count": 20,
     "metadata": {},
     "output_type": "execute_result"
    }
   ],
   "source": [
    "data.isnull().sum()"
   ]
  },
  {
   "cell_type": "code",
   "execution_count": 22,
   "id": "dd9fdda5-c7d5-4191-a927-2adac5a12fdf",
   "metadata": {},
   "outputs": [
    {
     "name": "stdout",
     "output_type": "stream",
     "text": [
      "No. of Duplicates: 0\n"
     ]
    }
   ],
   "source": [
    "duplicates = data.duplicated().sum()\n",
    "print(\"No. of Duplicates:\",duplicates)"
   ]
  },
  {
   "cell_type": "code",
   "execution_count": 24,
   "id": "ade89f65-7a1f-42f2-9562-698b0c5b09e2",
   "metadata": {},
   "outputs": [
    {
     "name": "stdout",
     "output_type": "stream",
     "text": [
      "<class 'pandas.core.frame.DataFrame'>\n",
      "RangeIndex: 4600 entries, 0 to 4599\n",
      "Data columns (total 18 columns):\n",
      " #   Column         Non-Null Count  Dtype  \n",
      "---  ------         --------------  -----  \n",
      " 0   date           4600 non-null   object \n",
      " 1   price          4600 non-null   float64\n",
      " 2   bedrooms       4600 non-null   float64\n",
      " 3   bathrooms      4600 non-null   float64\n",
      " 4   sqft_living    4600 non-null   float64\n",
      " 5   sqft_lot       4600 non-null   float64\n",
      " 6   floors         4600 non-null   float64\n",
      " 7   waterfront     4600 non-null   float64\n",
      " 8   view           4600 non-null   float64\n",
      " 9   condition      4600 non-null   int64  \n",
      " 10  sqft_above     4600 non-null   float64\n",
      " 11  sqft_basement  4600 non-null   float64\n",
      " 12  yr_built       4600 non-null   float64\n",
      " 13  yr_renovated   4600 non-null   int64  \n",
      " 14  street         4600 non-null   object \n",
      " 15  city           4600 non-null   object \n",
      " 16  statezip       4600 non-null   object \n",
      " 17  country        4600 non-null   object \n",
      "dtypes: float64(11), int64(2), object(5)\n",
      "memory usage: 647.0+ KB\n"
     ]
    }
   ],
   "source": [
    "data.info()"
   ]
  },
  {
   "cell_type": "code",
   "execution_count": 31,
   "id": "bfcfe1fe-6392-46c0-ba4b-e1dcb2e56f12",
   "metadata": {},
   "outputs": [
    {
     "name": "stdout",
     "output_type": "stream",
     "text": [
      "Requirement already satisfied: scikit-learn in d:\\users\\hp\\anaconda3\\lib\\site-packages (1.4.2)\n",
      "Requirement already satisfied: numpy>=1.19.5 in d:\\users\\hp\\anaconda3\\lib\\site-packages (from scikit-learn) (1.26.4)\n",
      "Requirement already satisfied: scipy>=1.6.0 in d:\\users\\hp\\anaconda3\\lib\\site-packages (from scikit-learn) (1.13.1)\n",
      "Requirement already satisfied: joblib>=1.2.0 in d:\\users\\hp\\anaconda3\\lib\\site-packages (from scikit-learn) (1.4.2)\n",
      "Requirement already satisfied: threadpoolctl>=2.0.0 in d:\\users\\hp\\anaconda3\\lib\\site-packages (from scikit-learn) (2.2.0)\n",
      "Note: you may need to restart the kernel to use updated packages.\n"
     ]
    }
   ],
   "source": [
    "pip install scikit-learn"
   ]
  },
  {
   "cell_type": "code",
   "execution_count": 33,
   "id": "c60f8a42-1773-4faa-a0a7-b80427f48806",
   "metadata": {},
   "outputs": [],
   "source": [
    "from sklearn.preprocessing import LabelEncoder"
   ]
  },
  {
   "cell_type": "code",
   "execution_count": 39,
   "id": "7320bbe1-0bc6-46a6-857e-b6435599af4b",
   "metadata": {},
   "outputs": [],
   "source": [
    "def typecast(data,colmns):\n",
    "    for colmn in colmns:\n",
    "        if data[colmn].dtype == 'float64':\n",
    "            data[colmn] = data[colmn].astype('int64')\n",
    "        elif data[colmn].dtype == object:\n",
    "            labelencoder = LabelEncoder()\n",
    "            data[colmn] = labelencoder.fit_transform(data[colmn])\n",
    "            data[colmn] = data[colmn].astype('int64')\n",
    "colmns = ['date','street','city','price','bedrooms','bathrooms','sqft_living','sqft_lot','floors','waterfront','view','sqft_above','sqft_basement','yr_built','statezip','country']\n",
    "typecast(data,colmns)\n",
    "            "
   ]
  },
  {
   "cell_type": "code",
   "execution_count": 41,
   "id": "fba6ac37-014d-4f8e-8b99-88ab6b77999d",
   "metadata": {},
   "outputs": [
    {
     "name": "stdout",
     "output_type": "stream",
     "text": [
      "<class 'pandas.core.frame.DataFrame'>\n",
      "RangeIndex: 4600 entries, 0 to 4599\n",
      "Data columns (total 18 columns):\n",
      " #   Column         Non-Null Count  Dtype\n",
      "---  ------         --------------  -----\n",
      " 0   date           4600 non-null   int64\n",
      " 1   price          4600 non-null   int64\n",
      " 2   bedrooms       4600 non-null   int64\n",
      " 3   bathrooms      4600 non-null   int64\n",
      " 4   sqft_living    4600 non-null   int64\n",
      " 5   sqft_lot       4600 non-null   int64\n",
      " 6   floors         4600 non-null   int64\n",
      " 7   waterfront     4600 non-null   int64\n",
      " 8   view           4600 non-null   int64\n",
      " 9   condition      4600 non-null   int64\n",
      " 10  sqft_above     4600 non-null   int64\n",
      " 11  sqft_basement  4600 non-null   int64\n",
      " 12  yr_built       4600 non-null   int64\n",
      " 13  yr_renovated   4600 non-null   int64\n",
      " 14  street         4600 non-null   int64\n",
      " 15  city           4600 non-null   int64\n",
      " 16  statezip       4600 non-null   int64\n",
      " 17  country        4600 non-null   int64\n",
      "dtypes: int64(18)\n",
      "memory usage: 647.0 KB\n"
     ]
    }
   ],
   "source": [
    "data.info()"
   ]
  }
 ],
 "metadata": {
  "kernelspec": {
   "display_name": "Python 3 (ipykernel)",
   "language": "python",
   "name": "python3"
  },
  "language_info": {
   "codemirror_mode": {
    "name": "ipython",
    "version": 3
   },
   "file_extension": ".py",
   "mimetype": "text/x-python",
   "name": "python",
   "nbconvert_exporter": "python",
   "pygments_lexer": "ipython3",
   "version": "3.12.4"
  }
 },
 "nbformat": 4,
 "nbformat_minor": 5
}
