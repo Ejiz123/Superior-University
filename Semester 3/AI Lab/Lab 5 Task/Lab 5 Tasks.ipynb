{
 "cells": [
  {
   "cell_type": "markdown",
   "id": "98022ac3-ebeb-42f1-b08b-35fa8715b388",
   "metadata": {},
   "source": [
    "Task 1: DFS with Stack & Node"
   ]
  },
  {
   "cell_type": "code",
   "execution_count": 2,
   "id": "e150695e-d873-4447-96c6-ddfe4b609f5e",
   "metadata": {},
   "outputs": [
    {
     "name": "stdout",
     "output_type": "stream",
     "text": [
      "DFS traversal starting from node A:\n",
      "A B D C E F "
     ]
    }
   ],
   "source": [
    "class Graph:\n",
    "    def __init__(self):\n",
    "        self.Graph = {}\n",
    "    def add(self,node,neighbor):\n",
    "        if node not in self.Graph:\n",
    "            self.Graph[node] = []\n",
    "        self.Graph[node].append(neighbor)\n",
    "    def dfs(self,start_node):\n",
    "        visited = set()\n",
    "        stack = [start_node]\n",
    "        while stack:\n",
    "            node = stack.pop()\n",
    "            if node not in visited:\n",
    "                print(node,end = \" \")\n",
    "                visited.add(node)\n",
    "                if node in self.Graph:\n",
    "                    for neighbor in reversed(self.Graph[node]):\n",
    "                        if neighbor not in visited:\n",
    "                            stack.append(neighbor)\n",
    "                \n",
    "Dfs = Graph()\n",
    "Dfs.add('A','B')\n",
    "Dfs.add('A','C')\n",
    "Dfs.add('B','D')\n",
    "Dfs.add('C','E')\n",
    "Dfs.add('C','F')\n",
    "print(\"DFS traversal starting from node A:\")\n",
    "Dfs.dfs('A')"
   ]
  },
  {
   "cell_type": "markdown",
   "id": "01949e45-669b-458f-a6d5-979ba6133696",
   "metadata": {},
   "source": [
    "Task 2: Research about \"Inorder, Preorder, Postorder\" and implement in DFS"
   ]
  },
  {
   "cell_type": "code",
   "execution_count": 5,
   "id": "b891f073-6f43-4a6f-a68d-ce8dac26647c",
   "metadata": {},
   "outputs": [
    {
     "name": "stdout",
     "output_type": "stream",
     "text": [
      "Inorder\n",
      "D B E A F C G \n",
      "Preorder\n",
      "A B D E C F G \n",
      "Postorder\n",
      "D E B F G C A "
     ]
    }
   ],
   "source": [
    "#Methods of traversing in Binary tress\n",
    "#Inorder--> This is methode of graph traversing in DFS in which firstly left side is visited, then node and then right side.\n",
    "#Preorder--> In it firstly node is visited then left and right sides are visited.\n",
    "#Postorder--> In it firstly left side of node is visited then right and then node.\n",
    "class Graph:\n",
    "    def __init__(self):\n",
    "        self.graph = {}\n",
    "    def add(self,node,left = None,right = None):\n",
    "        self.graph[node] = (left,right)\n",
    "    def inorder(self,node):\n",
    "        if node:\n",
    "            left,right = self.graph.get(node,(None,None))\n",
    "            self.inorder(left)\n",
    "            print(node,end = \" \")\n",
    "            self.inorder(right)\n",
    "    def preorder(self,node):\n",
    "        if node:\n",
    "            left,right = self.graph.get(node,(None,None))\n",
    "            print(node,end = \" \")\n",
    "            self.preorder(left)\n",
    "            self.preorder(right)\n",
    "    def postorder(self,node):\n",
    "        if node:\n",
    "            left,right = self.graph.get(node,(None,None))\n",
    "            self.postorder(left)\n",
    "            self.postorder(right)\n",
    "            print(node,end = \" \")\n",
    "graph = Graph()\n",
    "graph.add('A','B','C')\n",
    "graph.add('B','D','E')\n",
    "graph.add('C','F','G')\n",
    "print(\"Inorder\")\n",
    "graph.inorder('A')\n",
    "print(\"\\nPreorder\")\n",
    "graph.preorder('A')\n",
    "print(\"\\nPostorder\")\n",
    "graph.postorder('A')"
   ]
  }
 ],
 "metadata": {
  "kernelspec": {
   "display_name": "Python 3 (ipykernel)",
   "language": "python",
   "name": "python3"
  },
  "language_info": {
   "codemirror_mode": {
    "name": "ipython",
    "version": 3
   },
   "file_extension": ".py",
   "mimetype": "text/x-python",
   "name": "python",
   "nbconvert_exporter": "python",
   "pygments_lexer": "ipython3",
   "version": "3.12.4"
  }
 },
 "nbformat": 4,
 "nbformat_minor": 5
}
