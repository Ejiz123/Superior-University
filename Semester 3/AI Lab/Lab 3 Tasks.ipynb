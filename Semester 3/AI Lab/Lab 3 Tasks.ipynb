{
 "cells": [
  {
   "cell_type": "markdown",
   "id": "a8f292b2-c71b-4242-b69f-afae2748cb6f",
   "metadata": {},
   "source": [
    "Lab 3 Tasks\n"
   ]
  },
  {
   "cell_type": "code",
   "execution_count": 8,
   "id": "ab427dd4-feb7-4f31-8cc0-61cec50e2ff9",
   "metadata": {},
   "outputs": [
    {
     "name": "stdout",
     "output_type": "stream",
     "text": [
      "Living Room Current Temp:30 --> Heater is already off\n",
      "Bed Room Current Temp:18 --> Turn on heater\n",
      "Drying Room Current Temp:22 --> Heater is already off\n"
     ]
    }
   ],
   "source": [
    "#Simple Reflex Agent\n",
    "class Simple_reflex_agent:\n",
    "    def __init__(self,temp):\n",
    "        self.desired_temp = temp\n",
    "        self.heater_stat = {}\n",
    "    def perceive(self,room,current_temp):\n",
    "        self.current_temp = current_temp\n",
    "        return self.current_temp\n",
    "    def act(self,room,current_temp):\n",
    "        if room not in self.heater_stat:\n",
    "            self.heater_stat[room] = \"off\"\n",
    "\n",
    "        if current_temp < self.desired_temp:\n",
    "            if self.heater_stat[room] == \"off\":\n",
    "                self.heater_stat[room] = \"on\"\n",
    "                action = \"Turn on heater\"\n",
    "            else:\n",
    "                action = \"Heater is already on\"\n",
    "        else:\n",
    "            if self.heater_stat[room] == \"on\":\n",
    "                self.heater_stat[room] = \"off\"\n",
    "                action = \"Turn off heater\"\n",
    "            else:\n",
    "                action = \"Heater is already off\"\n",
    "        return action\n",
    "agent = Simple_reflex_agent(22)\n",
    "rooms = {\n",
    "    \"Living Room\" : 30,\n",
    "    \"Bed Room\" : 18,\n",
    "    \"Drying Room\" : 22\n",
    "}\n",
    "for room,temp in rooms.items():\n",
    "    print(f\"{room} Current Temp:{temp} --> {agent.act(room,temp)}\")\n",
    "\n",
    "\n",
    "        "
   ]
  }
 ],
 "metadata": {
  "kernelspec": {
   "display_name": "Python 3 (ipykernel)",
   "language": "python",
   "name": "python3"
  },
  "language_info": {
   "codemirror_mode": {
    "name": "ipython",
    "version": 3
   },
   "file_extension": ".py",
   "mimetype": "text/x-python",
   "name": "python",
   "nbconvert_exporter": "python",
   "pygments_lexer": "ipython3",
   "version": "3.12.4"
  }
 },
 "nbformat": 4,
 "nbformat_minor": 5
}
