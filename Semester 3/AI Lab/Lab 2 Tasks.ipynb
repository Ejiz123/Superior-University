{
 "cells": [
  {
   "cell_type": "markdown",
   "id": "4f4a4b2c-4a64-4d4c-a9cf-d443304d9e79",
   "metadata": {},
   "source": [
    "Lab 2 Tasks"
   ]
  },
  {
   "cell_type": "code",
   "execution_count": 2,
   "id": "5fbc361e-4a79-4136-875c-74247b4d8f45",
   "metadata": {},
   "outputs": [
    {
     "name": "stdout",
     "output_type": "stream",
     "text": [
      "\n",
      "        1.For playing game\n",
      "        2.Press 0 to exit\n",
      "        \n"
     ]
    },
    {
     "name": "stdin",
     "output_type": "stream",
     "text": [
      "Enter your choice:  1\n",
      "Enter a number:  3\n"
     ]
    },
    {
     "name": "stdout",
     "output_type": "stream",
     "text": [
      "Fizz\n",
      "\n"
     ]
    },
    {
     "name": "stdin",
     "output_type": "stream",
     "text": [
      "Enter your choice:  1\n",
      "Enter a number:  3\n"
     ]
    },
    {
     "name": "stdout",
     "output_type": "stream",
     "text": [
      "Fizz\n",
      "\n"
     ]
    },
    {
     "name": "stdin",
     "output_type": "stream",
     "text": [
      "Enter your choice:  1\n",
      "Enter a number:  7\n"
     ]
    },
    {
     "name": "stdout",
     "output_type": "stream",
     "text": [
      "Buzz\n",
      "\n"
     ]
    },
    {
     "name": "stdin",
     "output_type": "stream",
     "text": [
      "Enter your choice:  0\n"
     ]
    },
    {
     "name": "stdout",
     "output_type": "stream",
     "text": [
      "Thanks for playing..\n"
     ]
    }
   ],
   "source": [
    "#Fizzbuzz game\n",
    "class Fizzbuzz:\n",
    "    def resulted_value(self):\n",
    "        if self.result%3 == 0 and self.result%5==0:\n",
    "            print(\"Fizz Buzz\")\n",
    "        elif self.result%3 == 0:\n",
    "            print(\"Fizz\")\n",
    "        elif self.result%5 == 0:\n",
    "            print(\"Buzz\")\n",
    "    def main(self):\n",
    "        print(\"\"\"\n",
    "        1.For playing game\n",
    "        2.Press 0 to exit\n",
    "        \"\"\")\n",
    "        list1 = []\n",
    "        while True:\n",
    "            try:\n",
    "                choice = int(input(\"Enter your choice: \"))\n",
    "                self.result = 0\n",
    "                if choice==1:\n",
    "                    self.num1 = int(input(\"Enter a number: \"))\n",
    "                    if list1:\n",
    "                        popped_value = list1.pop()\n",
    "                        list1.append(self.num1)\n",
    "                        self.result = self.num1+popped_value\n",
    "                    else:\n",
    "                        list1.append(self.num1)\n",
    "                        self.result = self.num1\n",
    "                    self.resulted_value()\n",
    "                    print()\n",
    "                elif choice==0:\n",
    "                    print(\"Thanks for playing..\")\n",
    "                    break\n",
    "                else:\n",
    "                    print(\"Enter 0 to exit and 1 for continue playing\")\n",
    "            except ValueError:\n",
    "                print(\"Invalid input\")\n",
    "                \n",
    "\n",
    "fizzbuzz = Fizzbuzz()\n",
    "fizzbuzz.main()     "
   ]
  },
  {
   "cell_type": "code",
   "execution_count": 20,
   "id": "cf6c30db-c82e-4476-8ec2-92ba25ff59d0",
   "metadata": {},
   "outputs": [],
   "source": [
    "#MiniProject 2:\n",
    "#In particular we're going to finding the average budget of the films in our data set, and we're going to identify high budget films that exceed\n",
    "#the average budget we calculate.\n",
    "movies = [ \n",
    "    (\"Eternal Sunshine of the Spotless Mind\", 20000000),\n",
    "    (\"Memento\", 9000000),\n",
    "    (\"Requiem for a Dream\", 4500000),\n",
    "    (\"Pirates of the Caribbean: On Stranger Tides\", 379000000),\n",
    "    (\"Avengers: Age of Ultron\", 365000000),\n",
    "    (\"Avengers: Endgame\", 356000000),\n",
    "    (\"Incredibles 2\", 200000000)\n",
    "]\n",
    "def calculate_average(movies):\n",
    "    total_budget = 0\n",
    "    for movie in movies:\n",
    "        total_budget += movie[1]\n",
    "    avrg_budget = total_budget/len(movies)\n",
    "    return avrg_budget\n",
    "def high_budget_movies(movies,avrg_budget):\n",
    "    high_budget = []\n",
    "    for name,budget in movies:\n",
    "        if budget>avrg_budget:\n",
    "            high_budget.append((name,budget))\n",
    "    print(\"Movies with high budget are:\")\n",
    "    for name,budget in high_budget:\n",
    "        difference = budget-avrg_budget\n",
    "        print(f\"{name} : {budget}$,Higher by {difference}\")\n",
    "    print()\n",
    "    print(f\"Number of movies having higher budget: {len(high_budget)}\")\n",
    "def add_movies(movies):\n",
    "    try:\n",
    "        num = int(input(\"Enter number of movies you want to enter: \"))\n",
    "        for i in range(num):\n",
    "            name = input(\"Enter the name of movie: \")\n",
    "            budget = int(input(\"Enter the budget of movie: \"))\n",
    "            movies.append((name,budget))\n",
    "    except ValueError:\n",
    "        print(\"Invalid input\")\n",
    "def display_movies(movies):\n",
    "    for name,budget in movies:\n",
    "        print(name+\",\",budget)\n",
    "def main():\n",
    "    print(\"\"\"\n",
    "    1.For Finding High budget movies\n",
    "    2.For Adding New Movies\n",
    "    3.For Displaying Movies\n",
    "    4.For exiting\n",
    "    \"\"\")\n",
    "    while True:\n",
    "        choice = int(input(\"Enter your choice: \"))\n",
    "        if choice == 1:\n",
    "            avrg_budget = calculate_average(movies)\n",
    "            high_budget_movies(movies,avrg_budget)\n",
    "        elif choice == 2:\n",
    "            add_movies(movies)\n",
    "        elif choice ==3:\n",
    "            display_movies(movies)\n",
    "        elif choice == 4:\n",
    "            print(\"Exiting..\")\n",
    "            break\n",
    "        else:\n",
    "            print(\"Invalid input\")\n",
    "            continue\n",
    "        print()"
   ]
  },
  {
   "cell_type": "code",
   "execution_count": 22,
   "id": "883af395-af3a-4a99-ba35-d1aaf1102f0a",
   "metadata": {},
   "outputs": [
    {
     "name": "stdout",
     "output_type": "stream",
     "text": [
      "\n",
      "    1.For Finding High budget movies\n",
      "    2.For Adding New Movies\n",
      "    3.For Displaying Movies\n",
      "    4.For exiting\n",
      "    \n"
     ]
    },
    {
     "name": "stdin",
     "output_type": "stream",
     "text": [
      "Enter your choice:  1\n"
     ]
    },
    {
     "name": "stdout",
     "output_type": "stream",
     "text": [
      "Movies with high budget are:\n",
      "Pirates of the Caribbean: On Stranger Tides : 379000000$,Higher by 188500000.0\n",
      "Avengers: Age of Ultron : 365000000$,Higher by 174500000.0\n",
      "Avengers: Endgame : 356000000$,Higher by 165500000.0\n",
      "Incredibles 2 : 200000000$,Higher by 9500000.0\n",
      "\n",
      "Number of movies having higher budget: 4\n",
      "\n"
     ]
    },
    {
     "name": "stdin",
     "output_type": "stream",
     "text": [
      "Enter your choice:  4\n"
     ]
    },
    {
     "name": "stdout",
     "output_type": "stream",
     "text": [
      "Exiting..\n"
     ]
    }
   ],
   "source": [
    "main()"
   ]
  },
  {
   "cell_type": "code",
   "execution_count": null,
   "id": "4e28a0d6-ea7f-46e6-9dc6-0fd427af467b",
   "metadata": {},
   "outputs": [],
   "source": []
  }
 ],
 "metadata": {
  "kernelspec": {
   "display_name": "Python 3 (ipykernel)",
   "language": "python",
   "name": "python3"
  },
  "language_info": {
   "codemirror_mode": {
    "name": "ipython",
    "version": 3
   },
   "file_extension": ".py",
   "mimetype": "text/x-python",
   "name": "python",
   "nbconvert_exporter": "python",
   "pygments_lexer": "ipython3",
   "version": "3.12.4"
  }
 },
 "nbformat": 4,
 "nbformat_minor": 5
}
