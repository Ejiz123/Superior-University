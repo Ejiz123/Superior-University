{
 "cells": [
  {
   "cell_type": "markdown",
   "id": "dd3e0a28-65c1-4817-9e6a-834104fe59ac",
   "metadata": {},
   "source": [
    "Lab 7 Task Task 1: Code of A* Algorithm (without importing any library)"
   ]
  },
  {
   "cell_type": "code",
   "execution_count": 2,
   "id": "89779099-4151-4dc4-9630-0ba9eb5cca1c",
   "metadata": {},
   "outputs": [
    {
     "name": "stdout",
     "output_type": "stream",
     "text": [
      "Optimized Path: ['A', 'B', 'E', 'G']\n"
     ]
    }
   ],
   "source": [
    "class Node:\n",
    "    def __init__(self,name,parent= None):\n",
    "        self.name = name\n",
    "        self.parent = parent\n",
    "        self.g = 0\n",
    "        self.h = 0\n",
    "        self.f = 0\n",
    "def astar(graph,start,goal,heuristics):\n",
    "    start_node = Node(start)\n",
    "    goal_node = Node(goal)\n",
    "    open_list = []\n",
    "    closed_list = []\n",
    "    open_list.append(start_node)\n",
    "    while open_list:\n",
    "        current_node = open_list[0]\n",
    "        current_index = 0\n",
    "        for index,node in enumerate(open_list):\n",
    "            if node.f<current_node.f:\n",
    "                current_node = node\n",
    "                current_index = index\n",
    "        open_list.pop(current_index)\n",
    "        closed_list.append(current_node)\n",
    "        if current_node.name == goal_node.name:\n",
    "            path = []\n",
    "            current = current_node\n",
    "            while current is not None:\n",
    "                path.append(current.name)\n",
    "                current = current.parent\n",
    "            return path[::-1]    \n",
    "        neighbors = graph[current_node.name]\n",
    "        children = []\n",
    "        for neighbor,cost in neighbors:\n",
    "            child_node = Node(neighbor,current_node)\n",
    "            child_node.g = cost+ current_node.g\n",
    "            child_node.h = heuristics[child_node.name]\n",
    "            child_node.f = child_node.g+child_node.h\n",
    "            children.append(child_node)\n",
    "        for child in children:\n",
    "            if any(closed_child.name == child.name for closed_child in closed_list):\n",
    "                continue\n",
    "            if any(open_child.name == child.name and child.g>open_child.g for open_child in open_list):\n",
    "                continue\n",
    "            open_list.append(child)\n",
    "graph = {\n",
    "    'A': [('B', 1), ('C', 3)],\n",
    "    'B': [('A', 1), ('D', 1), ('E', 3)],\n",
    "    'C': [('A', 3), ('F', 5)],\n",
    "    'D': [('B', 1)],\n",
    "    'E': [('B', 3), ('G', 2)],\n",
    "    'F': [('C', 5)],\n",
    "    'G': [('E', 2)]\n",
    "}\n",
    "\n",
    "heuristics = {\n",
    "    'A': 7,\n",
    "    'B': 6,\n",
    "    'C': 2,\n",
    "    'D': 6,\n",
    "    'E': 3,\n",
    "    'F': 1,\n",
    "    'G': 0  \n",
    "}\n",
    "start = 'A'\n",
    "goal = 'G'\n",
    "path = astar(graph, start, goal, heuristics)\n",
    "print(\"Optimized Path:\",path)"
   ]
  }
 ],
 "metadata": {
  "kernelspec": {
   "display_name": "Python 3 (ipykernel)",
   "language": "python",
   "name": "python3"
  },
  "language_info": {
   "codemirror_mode": {
    "name": "ipython",
    "version": 3
   },
   "file_extension": ".py",
   "mimetype": "text/x-python",
   "name": "python",
   "nbconvert_exporter": "python",
   "pygments_lexer": "ipython3",
   "version": "3.12.4"
  }
 },
 "nbformat": 4,
 "nbformat_minor": 5
}
