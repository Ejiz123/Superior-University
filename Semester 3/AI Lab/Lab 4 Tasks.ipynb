{
 "cells": [
  {
   "cell_type": "code",
   "execution_count": 1,
   "id": "0832c2fd-1001-442b-8e54-229cf53bc846",
   "metadata": {},
   "outputs": [
    {
     "name": "stdin",
     "output_type": "stream",
     "text": [
      "Enter 16 digits number:  4553535353535353\n"
     ]
    },
    {
     "name": "stdout",
     "output_type": "stream",
     "text": [
      "Invalid\n"
     ]
    }
   ],
   "source": [
    "#LUHN Algorithm\n",
    "def LUHN_Algorithm():\n",
    "    num = input(\"Enter 16 digits number: \")\n",
    "    num = list(num)\n",
    "    if len(num)==16:\n",
    "        c = num.pop()\n",
    "        num.reverse()\n",
    "        num.append(\"x\")\n",
    "        for i in range(len(num)):\n",
    "            if i%2 == 0:\n",
    "                b = int(num[i])\n",
    "                b = b*2\n",
    "                if b>9:\n",
    "                    b -= 9\n",
    "                    num[i] =str(b)\n",
    "        num[num.index(\"x\")] = str(c)\n",
    "        sum1  = 0\n",
    "        for i in num:\n",
    "            sum1+=int(i)\n",
    "        if sum1%10==0:\n",
    "            print(\"Valid\")\n",
    "        else:\n",
    "            print(\"Invalid\")\n",
    "    else:\n",
    "        print(\"Please enter correct number of digits\")\n",
    "        LUHN_Algorithm()\n",
    "    \n",
    "LUHN_Algorithm()\n"
   ]
  },
  {
   "cell_type": "code",
   "execution_count": 3,
   "id": "31a5848a-b385-43e8-93f8-2de6d0df95ba",
   "metadata": {},
   "outputs": [
    {
     "name": "stdin",
     "output_type": "stream",
     "text": [
      "Enter a string:  Ejiz! is. a boy.\n"
     ]
    },
    {
     "name": "stdout",
     "output_type": "stream",
     "text": [
      "Ejiz is a boy\n"
     ]
    }
   ],
   "source": [
    "#Task 2: Remove Punctuations from UserInput\n",
    "def remove_punctuations():\n",
    "    input_string = input(\"Enter a string: \")\n",
    "    result = []\n",
    "    for i in input_string:\n",
    "        if i.isalpha() or i.isspace():\n",
    "            result.append(i)\n",
    "    input_string = ''.join(result)\n",
    "    print(input_string)\n",
    "remove_punctuations()\n",
    "        "
   ]
  },
  {
   "cell_type": "code",
   "execution_count": 7,
   "id": "5550d1a7-6851-4b7e-b7a8-095773f3c5cd",
   "metadata": {},
   "outputs": [
    {
     "name": "stdin",
     "output_type": "stream",
     "text": [
      "Enter a text:  zEj\n"
     ]
    },
    {
     "name": "stdout",
     "output_type": "stream",
     "text": [
      "The result is:  Ejz\n"
     ]
    }
   ],
   "source": [
    "#Task 3: Sort text (word) in Alphabetical Order (without using sort function)\n",
    "def sort_alphabets():\n",
    "    text = input(\"Enter a text: \")\n",
    "    list1 = list(text)\n",
    "    for i in range(len(list1)-1):\n",
    "        for j in range(0,len(list1)-i-1):\n",
    "            if list1[j].upper()>list1[j+1].upper():\n",
    "                list1[j],list1[j+1] = list1[j+1],list1[j]\n",
    "    resulted_string = ''.join(list1)\n",
    "    return resulted_string\n",
    "print(\"The result is: \",sort_alphabets())  "
   ]
  },
  {
   "cell_type": "code",
   "execution_count": null,
   "id": "5bac4f45-b000-41b3-89c0-877132c91a9b",
   "metadata": {},
   "outputs": [],
   "source": []
  }
 ],
 "metadata": {
  "kernelspec": {
   "display_name": "Python 3 (ipykernel)",
   "language": "python",
   "name": "python3"
  },
  "language_info": {
   "codemirror_mode": {
    "name": "ipython",
    "version": 3
   },
   "file_extension": ".py",
   "mimetype": "text/x-python",
   "name": "python",
   "nbconvert_exporter": "python",
   "pygments_lexer": "ipython3",
   "version": "3.12.4"
  }
 },
 "nbformat": 4,
 "nbformat_minor": 5
}
