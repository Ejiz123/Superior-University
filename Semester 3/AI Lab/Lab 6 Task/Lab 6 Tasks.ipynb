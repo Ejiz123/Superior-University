{
 "cells": [
  {
   "cell_type": "markdown",
   "id": "11b44055-e165-44a3-820c-668b7f9a82f9",
   "metadata": {},
   "source": [
    "Task 1: BFS with Queue & Node"
   ]
  },
  {
   "cell_type": "code",
   "execution_count": 2,
   "id": "b9c62203-5bcc-4faa-867d-3ecf259d3379",
   "metadata": {},
   "outputs": [
    {
     "name": "stdout",
     "output_type": "stream",
     "text": [
      "BFS traversal starting from node A:\n",
      "A B C D E F "
     ]
    }
   ],
   "source": [
    "class Graph:\n",
    "    def __init__(self):\n",
    "        self.graph = {}\n",
    "    def add(self,node,neighbor):\n",
    "        if node not in self.graph:\n",
    "            self.graph[node] = []\n",
    "        self.graph[node].append(neighbor)\n",
    "    def bfs(self,start_node):\n",
    "        queue = [start_node]\n",
    "        visited = set()\n",
    "        while queue:\n",
    "            node = queue.pop(0)\n",
    "            if node not in visited:\n",
    "                print(node,end = \" \")\n",
    "                visited.add(node)\n",
    "                if node in self.graph:\n",
    "                    for neighbor in self.graph[node]:\n",
    "                        if neighbor not in visited:\n",
    "                            queue.append(neighbor)\n",
    "                    \n",
    "Bfs = Graph()  \n",
    "Bfs.add('A','B')\n",
    "Bfs.add('A','C')\n",
    "Bfs.add('B','D')\n",
    "Bfs.add('C','E')\n",
    "Bfs.add('C','F')\n",
    "print(\"BFS traversal starting from node A:\")\n",
    "Bfs.bfs('A')"
   ]
  },
  {
   "cell_type": "markdown",
   "id": "b7aae7fa-e87f-41cf-92f0-de8ef8d86e46",
   "metadata": {},
   "source": [
    "Task 2: BFS without Queue & Node"
   ]
  },
  {
   "cell_type": "code",
   "execution_count": 7,
   "id": "fe655ef0-21e1-4f79-9041-6ee17e1ce57b",
   "metadata": {},
   "outputs": [
    {
     "name": "stdout",
     "output_type": "stream",
     "text": [
      "BFS traversal starting from node A:\n",
      "A B C D E F "
     ]
    }
   ],
   "source": [
    "class Graph:\n",
    "    def __init__(self):\n",
    "        self.graph = {}\n",
    "    def add(self,node,neighbor):\n",
    "        if node not in self.graph:\n",
    "            self.graph[node] = []\n",
    "        self.graph[node].append(neighbor)\n",
    "    def bfs(self,start_node,visited = None,level = None):\n",
    "        if visited is None:\n",
    "            visited = set()\n",
    "        if level is None:\n",
    "            level = [start_node]\n",
    "        if not level:\n",
    "            return\n",
    "        next_level = []\n",
    "        for node in level:\n",
    "            if node not in visited:\n",
    "                print(node,end = \" \")\n",
    "                visited.add(node)\n",
    "                for neighbor in self.graph.get(node,[]):\n",
    "                    if neighbor not in visited:\n",
    "                        next_level.append(neighbor)\n",
    "        self.bfs(None,visited,next_level)\n",
    "Bfs = Graph()  \n",
    "Bfs.add('A','B')\n",
    "Bfs.add('A','C')\n",
    "Bfs.add('B','D')\n",
    "Bfs.add('C','E')\n",
    "Bfs.add('C','F')\n",
    "print(\"BFS traversal starting from node A:\")\n",
    "Bfs.bfs('A')        \n",
    "        \n",
    "    "
   ]
  }
 ],
 "metadata": {
  "kernelspec": {
   "display_name": "Python 3 (ipykernel)",
   "language": "python",
   "name": "python3"
  },
  "language_info": {
   "codemirror_mode": {
    "name": "ipython",
    "version": 3
   },
   "file_extension": ".py",
   "mimetype": "text/x-python",
   "name": "python",
   "nbconvert_exporter": "python",
   "pygments_lexer": "ipython3",
   "version": "3.12.4"
  }
 },
 "nbformat": 4,
 "nbformat_minor": 5
}
