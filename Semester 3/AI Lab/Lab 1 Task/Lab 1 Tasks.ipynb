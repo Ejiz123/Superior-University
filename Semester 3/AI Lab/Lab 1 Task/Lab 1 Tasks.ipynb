{
 "cells": [
  {
   "cell_type": "markdown",
   "id": "ed498556-1daf-4c31-b6c2-8b45d71bd168",
   "metadata": {},
   "source": [
    "Lab 1 Task"
   ]
  },
  {
   "cell_type": "code",
   "execution_count": 2,
   "id": "76bc406b-1c93-4d9c-8fab-b59dc3b5c6fb",
   "metadata": {},
   "outputs": [
    {
     "name": "stdin",
     "output_type": "stream",
     "text": [
      "Enter an expression:  (5+9)*7-2\n"
     ]
    },
    {
     "name": "stdout",
     "output_type": "stream",
     "text": [
      "The result of (5+9)*7-2 is: 96.0\n"
     ]
    }
   ],
   "source": [
    "#Dynamic calculator\n",
    "class Calculator:\n",
    "    def __init__(self):\n",
    "        self.values = []  \n",
    "        self.op = []      \n",
    "    def calculate(self):\n",
    "        if not self.op or len(self.values) < 2:\n",
    "            raise ValueError(\"Insufficient data to perform operation.\")     \n",
    "        operator = self.op.pop()\n",
    "        value2 = self.values.pop()\n",
    "        value1 = self.values.pop()\n",
    "        if operator == '+':\n",
    "            self.values.append(value1 + value2)\n",
    "        elif operator == '-':\n",
    "            self.values.append(value1 - value2)\n",
    "        elif operator == '*':\n",
    "            self.values.append(value1 * value2)\n",
    "        elif operator == '/':\n",
    "            if value2 == 0:\n",
    "                raise ZeroDivisionError(\"Cannot divide by zero.\")\n",
    "            self.values.append(value1 / value2)\n",
    "\n",
    "    def main(self,equation):\n",
    "        a = 0\n",
    "        while a < len(equation):\n",
    "            if equation[a] == '(':\n",
    "                self.op.append('(')\n",
    "            elif equation[a] == ')':\n",
    "                while self.op[-1] != '(':\n",
    "                    self.calculate()\n",
    "                self.op.pop()  \n",
    "            elif equation[a].isdigit() or equation[a] == '.':\n",
    "                string = ''\n",
    "                while a<len(equation) and (equation[a].isdigit() or equation[a] == '.'):\n",
    "                    string += equation[a]\n",
    "                    a += 1\n",
    "                self.values.append(float(string))\n",
    "                a -= 1\n",
    "            elif equation[a] in '+-*/':\n",
    "                while self.op and self.op[-1] in '*/' and equation[a] in '+-':\n",
    "                    self.calculate()\n",
    "                self.op.append(equation[a])\n",
    "            a += 1\n",
    "        while self.op:\n",
    "            self.calculate()\n",
    "        return self.values[0]\n",
    "calc = Calculator()\n",
    "equation= input(\"Enter an expression: \")\n",
    "result = calc.main(equation)\n",
    "print(f\"The result of {equation} is: {result}\")"
   ]
  }
 ],
 "metadata": {
  "kernelspec": {
   "display_name": "Python 3 (ipykernel)",
   "language": "python",
   "name": "python3"
  },
  "language_info": {
   "codemirror_mode": {
    "name": "ipython",
    "version": 3
   },
   "file_extension": ".py",
   "mimetype": "text/x-python",
   "name": "python",
   "nbconvert_exporter": "python",
   "pygments_lexer": "ipython3",
   "version": "3.12.4"
  }
 },
 "nbformat": 4,
 "nbformat_minor": 5
}
