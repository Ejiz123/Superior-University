{
 "cells": [
  {
   "cell_type": "markdown",
   "id": "a4b65b5d-c831-4bb1-8bd0-76269592d5b7",
   "metadata": {},
   "source": [
    "Task 1: Code of \"Min Max Algorithm\""
   ]
  },
  {
   "cell_type": "code",
   "execution_count": 10,
   "id": "56fae8d6-01a6-4641-8367-001eb7613b0e",
   "metadata": {},
   "outputs": [
    {
     "ename": "IndentationError",
     "evalue": "unindent does not match any outer indentation level (<string>, line 12)",
     "output_type": "error",
     "traceback": [
      "\u001b[1;36m  File \u001b[1;32m<string>:12\u001b[1;36m\u001b[0m\n\u001b[1;33m    else:\u001b[0m\n\u001b[1;37m         ^\u001b[0m\n\u001b[1;31mIndentationError\u001b[0m\u001b[1;31m:\u001b[0m unindent does not match any outer indentation level\n"
     ]
    }
   ],
   "source": [
    "import math\n",
    "def minimax (curDepth, nodeIndex,\n",
    "             maxTurn, scores, \n",
    "             targetDepth):\n",
    "     if (curDepth == targetDepth): \n",
    "        return scores[nodeIndex]\n",
    "     if (maxTurn):\n",
    "        return max(minimax(curDepth + 1, nodeIndex * 2, \n",
    "                    False, scores, targetDepth), \n",
    "                   minimax(curDepth + 1, nodeIndex * 2 + 1, \n",
    "                    False, scores, targetDepth))\n",
    "    else:\n",
    "        return min(minimax(curDepth + 1, nodeIndex * 2, \n",
    "                     True, scores, targetDepth), \n",
    "                   minimax(curDepth + 1, nodeIndex * 2 + 1, \n",
    "                     True, scores, targetDepth))\n",
    "     \n",
    "scores = [3, 5, 2, 9, 12, 5, 23, 23]\n",
    "treeDepth = math.log(len(scores), 2)\n",
    "print(\"The optimal value is : \", end = \"\")\n",
    "print(minimax(0, 0, True, scores, treeDepth))\n",
    "print(treeDepth)"
   ]
  },
  {
   "cell_type": "code",
   "execution_count": null,
   "id": "f5fd7c6e-b364-494f-8510-041f40039dbe",
   "metadata": {},
   "outputs": [],
   "source": []
  }
 ],
 "metadata": {
  "kernelspec": {
   "display_name": "Python 3 (ipykernel)",
   "language": "python",
   "name": "python3"
  },
  "language_info": {
   "codemirror_mode": {
    "name": "ipython",
    "version": 3
   },
   "file_extension": ".py",
   "mimetype": "text/x-python",
   "name": "python",
   "nbconvert_exporter": "python",
   "pygments_lexer": "ipython3",
   "version": "3.12.4"
  }
 },
 "nbformat": 4,
 "nbformat_minor": 5
}
