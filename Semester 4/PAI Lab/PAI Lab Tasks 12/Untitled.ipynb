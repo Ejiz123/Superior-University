{
 "cells": [
  {
   "cell_type": "code",
   "execution_count": 1,
   "id": "1b4b6ebb-2fd5-42f6-848e-e7df043aa1f9",
   "metadata": {},
   "outputs": [],
   "source": [
    "!pip install -q sentence-transformers faiss-cpu pandas"
   ]
  },
  {
   "cell_type": "code",
   "execution_count": 2,
   "id": "31e72ef7-93cf-407f-8e7b-5fbc52ea6371",
   "metadata": {},
   "outputs": [
    {
     "name": "stdout",
     "output_type": "stream",
     "text": [
      "Error loading hadiths file: 'hadith'\n"
     ]
    },
    {
     "data": {
      "application/vnd.jupyter.widget-view+json": {
       "model_id": "d5475cffb3ab458eb1f2e896c6f3ac25",
       "version_major": 2,
       "version_minor": 0
      },
      "text/plain": [
       "modules.json:   0%|          | 0.00/349 [00:00<?, ?B/s]"
      ]
     },
     "metadata": {},
     "output_type": "display_data"
    },
    {
     "name": "stderr",
     "output_type": "stream",
     "text": [
      "C:\\Users\\HP\\AppData\\Local\\Programs\\Python\\Python313\\Lib\\site-packages\\huggingface_hub\\file_download.py:144: UserWarning: `huggingface_hub` cache-system uses symlinks by default to efficiently store duplicated files but your machine does not support them in C:\\Users\\HP\\.cache\\huggingface\\hub\\models--sentence-transformers--all-MiniLM-L6-v2. Caching files will still work but in a degraded version that might require more space on your disk. This warning can be disabled by setting the `HF_HUB_DISABLE_SYMLINKS_WARNING` environment variable. For more details, see https://huggingface.co/docs/huggingface_hub/how-to-cache#limitations.\n",
      "To support symlinks on Windows, you either need to activate Developer Mode or to run Python as an administrator. In order to activate developer mode, see this article: https://docs.microsoft.com/en-us/windows/apps/get-started/enable-your-device-for-development\n",
      "  warnings.warn(message)\n"
     ]
    },
    {
     "data": {
      "application/vnd.jupyter.widget-view+json": {
       "model_id": "c2676946537b49d2be475c9eab56e87e",
       "version_major": 2,
       "version_minor": 0
      },
      "text/plain": [
       "config_sentence_transformers.json:   0%|          | 0.00/116 [00:00<?, ?B/s]"
      ]
     },
     "metadata": {},
     "output_type": "display_data"
    },
    {
     "data": {
      "application/vnd.jupyter.widget-view+json": {
       "model_id": "33386cbeffe947358f83f587782052d9",
       "version_major": 2,
       "version_minor": 0
      },
      "text/plain": [
       "README.md:   0%|          | 0.00/10.5k [00:00<?, ?B/s]"
      ]
     },
     "metadata": {},
     "output_type": "display_data"
    },
    {
     "data": {
      "application/vnd.jupyter.widget-view+json": {
       "model_id": "6ec2cdc3b2214dbfafbeb82ba33b7d1d",
       "version_major": 2,
       "version_minor": 0
      },
      "text/plain": [
       "sentence_bert_config.json:   0%|          | 0.00/53.0 [00:00<?, ?B/s]"
      ]
     },
     "metadata": {},
     "output_type": "display_data"
    },
    {
     "data": {
      "application/vnd.jupyter.widget-view+json": {
       "model_id": "e20334ac37d346c693fb0818a4547090",
       "version_major": 2,
       "version_minor": 0
      },
      "text/plain": [
       "config.json:   0%|          | 0.00/612 [00:00<?, ?B/s]"
      ]
     },
     "metadata": {},
     "output_type": "display_data"
    },
    {
     "name": "stderr",
     "output_type": "stream",
     "text": [
      "Xet Storage is enabled for this repo, but the 'hf_xet' package is not installed. Falling back to regular HTTP download. For better performance, install the package with: `pip install huggingface_hub[hf_xet]` or `pip install hf_xet`\n"
     ]
    },
    {
     "data": {
      "application/vnd.jupyter.widget-view+json": {
       "model_id": "66edeb32d56d479695a055a326c9506a",
       "version_major": 2,
       "version_minor": 0
      },
      "text/plain": [
       "model.safetensors:   0%|          | 0.00/90.9M [00:00<?, ?B/s]"
      ]
     },
     "metadata": {},
     "output_type": "display_data"
    },
    {
     "data": {
      "application/vnd.jupyter.widget-view+json": {
       "model_id": "de4482e3d7844f1dbda8ccb7aaf1258b",
       "version_major": 2,
       "version_minor": 0
      },
      "text/plain": [
       "tokenizer_config.json:   0%|          | 0.00/350 [00:00<?, ?B/s]"
      ]
     },
     "metadata": {},
     "output_type": "display_data"
    },
    {
     "data": {
      "application/vnd.jupyter.widget-view+json": {
       "model_id": "24a1f4e8631840ec890ee78cb0babe94",
       "version_major": 2,
       "version_minor": 0
      },
      "text/plain": [
       "vocab.txt:   0%|          | 0.00/232k [00:00<?, ?B/s]"
      ]
     },
     "metadata": {},
     "output_type": "display_data"
    },
    {
     "data": {
      "application/vnd.jupyter.widget-view+json": {
       "model_id": "515d9402636d4b4c8954552ba490fc75",
       "version_major": 2,
       "version_minor": 0
      },
      "text/plain": [
       "tokenizer.json:   0%|          | 0.00/466k [00:00<?, ?B/s]"
      ]
     },
     "metadata": {},
     "output_type": "display_data"
    },
    {
     "data": {
      "application/vnd.jupyter.widget-view+json": {
       "model_id": "11654ea9d2ae4ed2ab9514e452dda80b",
       "version_major": 2,
       "version_minor": 0
      },
      "text/plain": [
       "special_tokens_map.json:   0%|          | 0.00/112 [00:00<?, ?B/s]"
      ]
     },
     "metadata": {},
     "output_type": "display_data"
    },
    {
     "data": {
      "application/vnd.jupyter.widget-view+json": {
       "model_id": "3201c1d319294fdbbd9aa6a9b36fbae7",
       "version_major": 2,
       "version_minor": 0
      },
      "text/plain": [
       "config.json:   0%|          | 0.00/190 [00:00<?, ?B/s]"
      ]
     },
     "metadata": {},
     "output_type": "display_data"
    },
    {
     "name": "stdout",
     "output_type": "stream",
     "text": [
      "Model loaded.\n",
      "Creating embeddings...\n"
     ]
    },
    {
     "ename": "NameError",
     "evalue": "name 'hadiths_list' is not defined",
     "output_type": "error",
     "traceback": [
      "\u001b[1;31m---------------------------------------------------------------------------\u001b[0m",
      "\u001b[1;31mNameError\u001b[0m                                 Traceback (most recent call last)",
      "Cell \u001b[1;32mIn[2], line 31\u001b[0m\n\u001b[0;32m     29\u001b[0m \u001b[38;5;66;03m# --- Step 4: Create Embeddings\u001b[39;00m\n\u001b[0;32m     30\u001b[0m \u001b[38;5;28mprint\u001b[39m(\u001b[38;5;124m\"\u001b[39m\u001b[38;5;124mCreating embeddings...\u001b[39m\u001b[38;5;124m\"\u001b[39m)\n\u001b[1;32m---> 31\u001b[0m embeddings \u001b[38;5;241m=\u001b[39m model\u001b[38;5;241m.\u001b[39mencode(\u001b[43mhadiths_list\u001b[49m, show_progress_bar\u001b[38;5;241m=\u001b[39m\u001b[38;5;28;01mTrue\u001b[39;00m)\n\u001b[0;32m     33\u001b[0m \u001b[38;5;66;03m# --- Step 5: Build FAISS Index\u001b[39;00m\n\u001b[0;32m     34\u001b[0m \u001b[38;5;28mprint\u001b[39m(\u001b[38;5;124m\"\u001b[39m\u001b[38;5;124mBuilding FAISS index...\u001b[39m\u001b[38;5;124m\"\u001b[39m)\n",
      "\u001b[1;31mNameError\u001b[0m: name 'hadiths_list' is not defined"
     ]
    }
   ],
   "source": [
    "# 📚 Hadiths FAISS Index Creator\n",
    "\n",
    "# --- Install Required Libraries\n",
    "\n",
    "\n",
    "# --- Step 1: Import Libraries\n",
    "import pandas as pd\n",
    "import faiss\n",
    "import numpy as np\n",
    "from sentence_transformers import SentenceTransformer\n",
    "\n",
    "# --- Step 2: Load Hadiths Data\n",
    "# (Make sure you have a 'hadiths.csv' file with a column 'hadith')\n",
    "\n",
    "hadiths_file = 'cleaned_hadith_data.csv'  # <-- Change filename if different\n",
    "\n",
    "try:\n",
    "    df = pd.read_csv(hadiths_file)\n",
    "    hadiths_list = df['hadith'].dropna().tolist()\n",
    "    print(f\"Loaded {len(hadiths_list)} hadiths successfully!\")\n",
    "except Exception as e:\n",
    "    print(f\"Error loading hadiths file: {e}\")\n",
    "\n",
    "# --- Step 3: Load Sentence Transformer Model\n",
    "model_name = 'all-MiniLM-L6-v2'  # Good balance between speed and accuracy\n",
    "model = SentenceTransformer(model_name)\n",
    "print(\"Model loaded.\")\n",
    "\n",
    "# --- Step 4: Create Embeddings\n",
    "print(\"Creating embeddings...\")\n",
    "embeddings = model.encode(hadiths_list, show_progress_bar=True)\n",
    "\n",
    "# --- Step 5: Build FAISS Index\n",
    "print(\"Building FAISS index...\")\n",
    "embeddings = np.array(embeddings).astype('float32')\n",
    "dimension = embeddings.shape[1]\n",
    "index = faiss.IndexFlatL2(dimension)\n",
    "index.add(embeddings)\n",
    "\n",
    "# --- Step 6: Save FAISS Index and Hadiths List\n",
    "faiss.write_index(index, 'hadiths_index.faiss')\n",
    "np.save('hadiths_texts.npy', hadiths_list)\n",
    "\n",
    "print(\"\\n✅ Successfully created and saved:\")\n",
    "print(\"- 'hadiths_index.faiss' (FAISS Index File)\")\n",
    "print(\"- 'hadiths_texts.npy' (Hadith Text List)\")\n",
    "\n",
    "# --- How to Load Later (example)\n",
    "# hadiths_list = np.load('hadiths_texts.npy', allow_pickle=True)\n",
    "# index = faiss.read_index('hadiths_index.faiss')\n"
   ]
  },
  {
   "cell_type": "code",
   "execution_count": null,
   "id": "38d05204-04e4-4f80-a8c2-37b0e46dbb70",
   "metadata": {},
   "outputs": [],
   "source": []
  }
 ],
 "metadata": {
  "kernelspec": {
   "display_name": "Python 3 (ipykernel)",
   "language": "python",
   "name": "python3"
  },
  "language_info": {
   "codemirror_mode": {
    "name": "ipython",
    "version": 3
   },
   "file_extension": ".py",
   "mimetype": "text/x-python",
   "name": "python",
   "nbconvert_exporter": "python",
   "pygments_lexer": "ipython3",
   "version": "3.13.0"
  }
 },
 "nbformat": 4,
 "nbformat_minor": 5
}
