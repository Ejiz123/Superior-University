{
 "cells": [
  {
   "cell_type": "markdown",
   "id": "0f5c1042-a929-478e-9d68-2a3b7d560bdd",
   "metadata": {},
   "source": [
    "Lab 3\n",
    "Task: WaterJug with DFS & printing rules (also correct the rule 5 & 6)"
   ]
  },
  {
   "cell_type": "markdown",
   "id": "fa83b725-ed05-4964-b79f-5f20bb1c88a9",
   "metadata": {},
   "source": [
    "**Water jug problem by BFS**"
   ]
  },
  {
   "cell_type": "code",
   "execution_count": 23,
   "id": "3a9989e0-827b-4a96-8670-1e6e7f31d893",
   "metadata": {},
   "outputs": [],
   "source": [
    "from collections import deque"
   ]
  },
  {
   "cell_type": "code",
   "execution_count": 48,
   "id": "2611ab73-331e-4d60-9721-dc0eb3ebf2db",
   "metadata": {},
   "outputs": [
    {
     "name": "stdout",
     "output_type": "stream",
     "text": [
      "Solution found\n",
      "start : (0, 0)\n",
      "rule1 : (4, 0)\n",
      "rule2 : (0, 3)\n",
      "rule2 : (4, 3)\n",
      "rule6 : (1, 3)\n",
      "rule7 : (3, 0)\n",
      "rule4 : (1, 0)\n",
      "rule2 : (3, 3)\n",
      "rule8 : (0, 1)\n",
      "rule5 : (4, 2)\n"
     ]
    },
    {
     "data": {
      "text/plain": [
       "True"
      ]
     },
     "execution_count": 48,
     "metadata": {},
     "output_type": "execute_result"
    }
   ],
   "source": [
    "def waterjugproblem(capacity1,capacity2,goal):\n",
    "    queue = deque()\n",
    "    visited = set()\n",
    "\n",
    "    actions = []\n",
    "    queue.append(((0,0),'start'))\n",
    "    visited.add((0,0))\n",
    "\n",
    "    while queue:\n",
    "        ((jug1, jug2), rule) = queue.popleft()\n",
    "        actions.append(((jug1,jug2),rule))\n",
    "\n",
    "        if jug1 == goal or jug2 == goal:\n",
    "            print(\"Solution found\")\n",
    "            for action,rule in actions:\n",
    "                print(f\"{rule} : {action}\")\n",
    "\n",
    "            return True\n",
    "\n",
    "        rules = {\n",
    "            'rule1':(capacity1,jug2),\n",
    "            'rule2':(jug1,capacity2),\n",
    "            'rule3':(0,jug2),\n",
    "            'rule4':(jug1,0),\n",
    "            'rule5':(capacity1,max(0,jug2-(capacity1-jug1))),\n",
    "            'rule6':(max(0,jug1-(capacity2-jug2)),capacity2),\n",
    "            'rule7':(min(jug1+jug2,capacity1),0),\n",
    "            'rule8':(0,min(jug2+jug1,capacity2))\n",
    "        }\n",
    "        for rule,state in rules.items():\n",
    "            if state not in visited:\n",
    "                visited.add(state)\n",
    "                queue.append((state, rule))\n",
    "    print(\"No solution found\")\n",
    "    return False\n",
    "\n",
    "capacity1 = 4\n",
    "capacity2 = 3\n",
    "target = 2\n",
    "\n",
    "waterjugproblem(capacity1,capacity2,target)\n",
    "        \n",
    "        \n",
    "        "
   ]
  },
  {
   "cell_type": "markdown",
   "id": "b2c5c597-d32e-44bb-b84e-2ce002c7cae3",
   "metadata": {},
   "source": [
    "**Water jug problem by DFS**"
   ]
  },
  {
   "cell_type": "code",
   "execution_count": 53,
   "id": "2128aa51-8ec3-4869-8e8a-6cc7f4a44be6",
   "metadata": {},
   "outputs": [
    {
     "name": "stdout",
     "output_type": "stream",
     "text": [
      "Solution found\n",
      "start : (0, 0)\n",
      "rule2 : (0, 3)\n",
      "rule7 : (3, 0)\n",
      "rule2 : (3, 3)\n",
      "rule5 : (4, 2)\n"
     ]
    },
    {
     "data": {
      "text/plain": [
       "True"
      ]
     },
     "execution_count": 53,
     "metadata": {},
     "output_type": "execute_result"
    }
   ],
   "source": [
    "def waterjugproblem(capacity1,capacity2,goal):\n",
    "    stack = []\n",
    "    visited = set()\n",
    "\n",
    "    actions = []\n",
    "    stack.append(((0,0),'start'))\n",
    "    visited.add((0,0))\n",
    "\n",
    "    while stack:\n",
    "        ((jug1, jug2), rule) = stack.pop()\n",
    "        actions.append(((jug1,jug2),rule))\n",
    "\n",
    "        if jug1 == goal or jug2 == goal:\n",
    "            print(\"Solution found\")\n",
    "            for action,rule in actions:\n",
    "                print(f\"{rule} : {action}\")\n",
    "\n",
    "            return True\n",
    "\n",
    "        rules = {\n",
    "            'rule1':(capacity1,jug2),\n",
    "            'rule2':(jug1,capacity2),\n",
    "            'rule3':(0,jug2),\n",
    "            'rule4':(jug1,0),\n",
    "            'rule5':(capacity1,max(0,jug2-(capacity1-jug1))),\n",
    "            'rule6':(max(0,jug1-(capacity2-jug2)),capacity2),\n",
    "            'rule7':(min(jug1+jug2,capacity1),0),\n",
    "            'rule8':(0,min(jug2+jug1,capacity2))\n",
    "        }\n",
    "        for rule,state in rules.items():\n",
    "            if state not in visited:\n",
    "                visited.add(state)\n",
    "                stack.append((state, rule))\n",
    "    print(\"No solution found\")\n",
    "    return False\n",
    "\n",
    "capacity1 = 4\n",
    "capacity2 = 3\n",
    "target = 2\n",
    "\n",
    "waterjugproblem(capacity1,capacity2,target)\n",
    "        \n",
    "        \n",
    "        "
   ]
  },
  {
   "cell_type": "code",
   "execution_count": null,
   "id": "b649d500-2fca-4636-8155-cfa509f274cb",
   "metadata": {},
   "outputs": [],
   "source": []
  }
 ],
 "metadata": {
  "kernelspec": {
   "display_name": "Python 3 (ipykernel)",
   "language": "python",
   "name": "python3"
  },
  "language_info": {
   "codemirror_mode": {
    "name": "ipython",
    "version": 3
   },
   "file_extension": ".py",
   "mimetype": "text/x-python",
   "name": "python",
   "nbconvert_exporter": "python",
   "pygments_lexer": "ipython3",
   "version": "3.13.0"
  }
 },
 "nbformat": 4,
 "nbformat_minor": 5
}
