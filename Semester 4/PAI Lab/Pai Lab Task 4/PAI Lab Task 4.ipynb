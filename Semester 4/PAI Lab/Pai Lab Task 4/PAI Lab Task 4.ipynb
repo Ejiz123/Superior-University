{
 "cells": [
  {
   "cell_type": "markdown",
   "id": "1b56a26f-f7f2-47b3-a0fc-8fc7b12526ad",
   "metadata": {},
   "source": [
    "# N-Queens Problem (Dynamic)"
   ]
  },
  {
   "cell_type": "code",
   "execution_count": 1,
   "id": "8ec7a8c2-db9e-493e-8919-dd4937be83e5",
   "metadata": {},
   "outputs": [
    {
     "name": "stdin",
     "output_type": "stream",
     "text": [
      "Enter the size of board: 6\n"
     ]
    },
    {
     "name": "stdout",
     "output_type": "stream",
     "text": [
      "solution for 6x6 board:\n",
      " 0 1 2 3 4 5\n",
      " ------------\n",
      "0|. Q . . . .\n",
      "1|. . . Q . .\n",
      "2|. . . . . Q\n",
      "3|Q . . . . .\n",
      "4|. . Q . . .\n",
      "5|. . . . Q .\n"
     ]
    }
   ],
   "source": [
    "def N_Queens(n):\n",
    "    def is_safe(row,colmn,dp):\n",
    "        for prev_row in range(row):\n",
    "            prev_col = dp[prev_row]\n",
    "            if prev_col == colmn or abs(prev_col - colmn) == abs(prev_row - row):\n",
    "                return False\n",
    "        return True\n",
    "    def solve(row,dp,solutions):\n",
    "        if row == n:\n",
    "            solutions.append([\".\"*dp[i]+\"Q\"+\".\"*(n-dp[i]-1) for i in range(n)])\n",
    "            return\n",
    "        for colmn in range(n):\n",
    "            if is_safe(row,colmn,dp):\n",
    "                dp[row] = colmn\n",
    "                solve(row+1,dp,solutions)\n",
    "                dp[row] = -1\n",
    "    solutions = []\n",
    "    dp = [-1]*n\n",
    "    solve(0,dp,solutions)\n",
    "    return solutions\n",
    "while True:\n",
    "    try:\n",
    "        n = int(input(\"Enter the size of board:\"))\n",
    "        if n<1:\n",
    "            print(\"Please enter a valid number i.e. >1\")\n",
    "            continue\n",
    "        break\n",
    "    except ValueError:\n",
    "        print(\"Please enter an integer\")\n",
    "result = N_Queens(n)\n",
    "if result:\n",
    "    print(f\"solution for {n}x{n} board:\")\n",
    "    board = result[0]\n",
    "    print(\" \"+\" \".join(str(i) for i in range(n)))\n",
    "    print(\" \"+\"--\"*n)\n",
    "    for i,row in enumerate(board):\n",
    "        print(f\"{i}|\"+ \" \".join(row))\n",
    "else:\n",
    "    print(f\"No solutions exist for {n}x{n} board\")"
   ]
  },
  {
   "cell_type": "code",
   "execution_count": null,
   "id": "231b8112-3339-4cc7-8741-c02e69a3c25f",
   "metadata": {},
   "outputs": [],
   "source": []
  }
 ],
 "metadata": {
  "kernelspec": {
   "display_name": "Python 3 (ipykernel)",
   "language": "python",
   "name": "python3"
  },
  "language_info": {
   "codemirror_mode": {
    "name": "ipython",
    "version": 3
   },
   "file_extension": ".py",
   "mimetype": "text/x-python",
   "name": "python",
   "nbconvert_exporter": "python",
   "pygments_lexer": "ipython3",
   "version": "3.13.0"
  }
 },
 "nbformat": 4,
 "nbformat_minor": 5
}
