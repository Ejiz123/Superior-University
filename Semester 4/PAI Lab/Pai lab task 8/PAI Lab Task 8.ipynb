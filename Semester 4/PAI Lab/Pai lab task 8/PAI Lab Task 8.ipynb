{
 "cells": [
  {
   "cell_type": "markdown",
   "id": "873b463e-f799-4c85-bbb7-9293e4e06002",
   "metadata": {},
   "source": [
    "lab 8 = backend + frontend code (python/flask + html,css,js code)"
   ]
  },
  {
   "cell_type": "code",
   "execution_count": 2,
   "id": "625f9129-0d9f-44a9-a3eb-866570de8a2a",
   "metadata": {},
   "outputs": [],
   "source": [
    "import json\n",
    "import requests\n",
    "from http.server import BaseHTTPRequestHandler, HTTPServer"
   ]
  },
  {
   "cell_type": "code",
   "execution_count": 3,
   "id": "214490d9-d4d4-4ab2-80ff-aa3a4c68fadc",
   "metadata": {},
   "outputs": [],
   "source": [
    "def get_models_by_make(make):\n",
    "    url = f\"https://vpic.nhtsa.dot.gov/api/vehicles/GetModelsForMake/{make}?format=json\"\n",
    "    response = requests.get(url)\n",
    "    data = response.json()\n",
    "    results = data.get('Results', [])\n",
    "    \n",
    "    models = []\n",
    "    if results:\n",
    "        for item in results:\n",
    "            models.append(item['Model_Name'])\n",
    "    return models\n",
    "\n",
    "def get_vehicle_by_vin(vin):\n",
    "    url = f\"https://vpic.nhtsa.dot.gov/api/vehicles/DecodeVin/{vin}?format=json\"\n",
    "    response = requests.get(url)\n",
    "    data = response.json()\n",
    "    results = data.get('Results', [])\n",
    "    \n",
    "    vehicle_info = []\n",
    "    for item in results:\n",
    "        if item['Value']:\n",
    "            vehicle_info.append({\n",
    "                'variable': item['Variable'],\n",
    "                'value': item['Value']\n",
    "            })\n",
    "    return vehicle_info\n",
    "\n"
   ]
  },
  {
   "cell_type": "code",
   "execution_count": 5,
   "id": "1f74cd4d-3b32-4e0f-972d-eae5681e92c8",
   "metadata": {},
   "outputs": [],
   "source": [
    "# HTTP request handler\n",
    "class RequestHandler(BaseHTTPRequestHandler):\n",
    "\n",
    "    def do_GET(self):\n",
    "        if self.path == '/':\n",
    "            self.serve_html()\n",
    "        else:\n",
    "            self.send_error(404, \"File Not Found\")\n",
    "\n",
    "    def do_POST(self):\n",
    "        if self.path == '/get-models':\n",
    "            self.handle_get_models()\n",
    "        elif self.path == '/get-vehicle-info':\n",
    "            self.handle_get_vehicle_info()\n",
    "\n",
    "    def serve_html(self):\n",
    "        try:\n",
    "            with open(\"vehicle_info.html\", \"r\") as file:\n",
    "                html = file.read()\n",
    "            self.send_response(200)\n",
    "            self.send_header('Content-type', 'text/html')\n",
    "            self.end_headers()\n",
    "            self.wfile.write(bytes(html, 'utf-8'))\n",
    "        except IOError:\n",
    "            self.send_error(404, \"File Not Found\")\n",
    "\n",
    "\n",
    "    def handle_get_models(self):\n",
    "        content_length = int(self.headers['Content-Length'])\n",
    "        post_data = self.rfile.read(content_length)\n",
    "        data = json.loads(post_data)\n",
    "\n",
    "        make = data.get('make')\n",
    "        models = get_models_by_make(make)\n",
    "\n",
    "        # Send the result as HTML response\n",
    "        self.send_response(200)\n",
    "        self.send_header('Content-type', 'text/html')\n",
    "        self.end_headers()\n",
    "        response_html = f\"<h2>Models for Make '{make}':</h2><ul>\"\n",
    "        if models:\n",
    "            for model in models:\n",
    "                response_html += f\"<li>{model}</li>\"\n",
    "        else:\n",
    "            response_html += \"<li>No models found for this make.</li>\"\n",
    "        response_html += \"</ul>\"\n",
    "        self.wfile.write(bytes(response_html, 'utf-8'))\n",
    "\n",
    "    def handle_get_vehicle_info(self):\n",
    "        content_length = int(self.headers['Content-Length'])\n",
    "        post_data = self.rfile.read(content_length)\n",
    "        data = json.loads(post_data)\n",
    "\n",
    "        vin = data.get('vin')\n",
    "        vehicle_info = get_vehicle_by_vin(vin)\n",
    "\n",
    "        # Send the result as HTML response\n",
    "        self.send_response(200)\n",
    "        self.send_header('Content-type', 'text/html')\n",
    "        self.end_headers()\n",
    "        response_html = f\"<h2>Vehicle Information for VIN: {vin}</h2><ul>\"\n",
    "        if vehicle_info:\n",
    "            for info in vehicle_info:\n",
    "                response_html += f\"<li>{info['variable']}: {info['value']}</li>\"\n",
    "        else:\n",
    "            response_html += \"<li>No information found for this VIN.</li>\"\n",
    "        response_html += \"</ul>\"\n",
    "        self.wfile.write(bytes(response_html, 'utf-8'))\n",
    "\n",
    "def run(server_class=HTTPServer, handler_class=RequestHandler, port=8080):\n",
    "    server_address = ('', port)\n",
    "    httpd = server_class(server_address, handler_class)\n",
    "    print(f\"Server running on port {port}...\")\n",
    "    httpd.serve_forever()\n",
    "\n"
   ]
  },
  {
   "cell_type": "code",
   "execution_count": null,
   "id": "db630725-31f5-4edc-be92-f87c4cbfefbe",
   "metadata": {},
   "outputs": [
    {
     "name": "stdout",
     "output_type": "stream",
     "text": [
      "Server running on port 8080...\n"
     ]
    }
   ],
   "source": [
    "if __name__ == '__main__':\n",
    "    run()"
   ]
  },
  {
   "cell_type": "code",
   "execution_count": null,
   "id": "0bce5c84-7cbe-4c34-b54c-8d18da2fe0c1",
   "metadata": {},
   "outputs": [],
   "source": []
  }
 ],
 "metadata": {
  "kernelspec": {
   "display_name": "Python 3 (ipykernel)",
   "language": "python",
   "name": "python3"
  },
  "language_info": {
   "codemirror_mode": {
    "name": "ipython",
    "version": 3
   },
   "file_extension": ".py",
   "mimetype": "text/x-python",
   "name": "python",
   "nbconvert_exporter": "python",
   "pygments_lexer": "ipython3",
   "version": "3.13.0"
  }
 },
 "nbformat": 4,
 "nbformat_minor": 5
}
