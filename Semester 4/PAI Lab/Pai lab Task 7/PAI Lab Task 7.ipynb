{
 "cells": [
  {
   "cell_type": "markdown",
   "id": "c1511c03-aa24-4a90-804a-78913960e928",
   "metadata": {},
   "source": [
    "# Vehicle Info App"
   ]
  },
  {
   "cell_type": "code",
   "execution_count": 1,
   "id": "6c7b79e4-638a-4579-8260-5a4593eeee9c",
   "metadata": {},
   "outputs": [],
   "source": [
    "import requests"
   ]
  },
  {
   "cell_type": "code",
   "execution_count": 6,
   "id": "6404adb7-47aa-45a1-a45a-1fe5c479bf7e",
   "metadata": {},
   "outputs": [
    {
     "name": "stdout",
     "output_type": "stream",
     "text": [
      "\n",
      "Vehicle Info App\n",
      "\n",
      "        1.Get models by make\n",
      "        2.Get vehicle info by vin\n",
      "        3.Exit\n",
      "        \n"
     ]
    },
    {
     "name": "stdin",
     "output_type": "stream",
     "text": [
      "Enter your choice:  1\n",
      "Enter make: Kia\n"
     ]
    },
    {
     "name": "stdout",
     "output_type": "stream",
     "text": [
      "\n",
      "Models for make: Kia\n",
      "-Rio\n",
      "-Soul\n",
      "-Borrego\n",
      "-Forte\n",
      "-Rondo\n",
      "-Optima\n",
      "-Sedona\n",
      "-Sorento\n",
      "-Sportage\n",
      "-Cadenza\n",
      "-K900\n",
      "-Sephia\n",
      "-Spectra\n",
      "-Amanti\n",
      "-Sephia II/Spectra\n",
      "-Forte Koup\n",
      "-Miami\n",
      "-Niro\n",
      "-Stinger\n",
      "-Telluride\n",
      "-Seltos\n",
      "-K5\n",
      "-Carnival\n",
      "-EV6\n",
      "-EV9\n",
      "-Tekiar\n",
      "-K4\n",
      "\n",
      "Vehicle Info App\n",
      "\n",
      "        1.Get models by make\n",
      "        2.Get vehicle info by vin\n",
      "        3.Exit\n",
      "        \n"
     ]
    },
    {
     "name": "stdin",
     "output_type": "stream",
     "text": [
      "Enter your choice:  2\n",
      "Enter vin: 1HGCM82633A004352\n"
     ]
    },
    {
     "name": "stdout",
     "output_type": "stream",
     "text": [
      "\n",
      "Vehicle for vin: 1HGCM82633A004352\n",
      "Error Code : 0\n",
      "Error Text : 0 - VIN decoded clean. Check Digit (9th position) is correct\n",
      "Vehicle Descriptor : 1HGCM826*3A\n",
      "Make : HONDA\n",
      "Manufacturer Name : AMERICAN HONDA MOTOR CO., INC.\n",
      "Model : Accord\n",
      "Model Year : 2003\n",
      "Plant City : MARYSVILLE\n",
      "Trim : EX-V6\n",
      "Vehicle Type : PASSENGER CAR\n",
      "Plant Country : UNITED STATES (USA)\n",
      "Plant State : OHIO\n",
      "Body Class : Coupe\n",
      "Doors : 2\n",
      "Gross Vehicle Weight Rating From : Class 1C: 4,001 - 5,000 lb (1,814 - 2,268 kg)\n",
      "Gross Vehicle Weight Rating To : Class 1: 6,000 lb or less (2,722 kg or less)\n",
      "Bed Type : Not Applicable\n",
      "Cab Type : Not Applicable\n",
      "Trailer Type Connection : Not Applicable\n",
      "Trailer Body Type : Not Applicable\n",
      "Custom Motorcycle Type : Not Applicable\n",
      "Motorcycle Suspension Type : Not Applicable\n",
      "Motorcycle Chassis Type : Not Applicable\n",
      "Bus Floor Configuration Type : Not Applicable\n",
      "Bus Type : Not Applicable\n",
      "Transmission Style : Automatic\n",
      "Transmission Speeds : 5\n",
      "Engine Number of Cylinders : 6\n",
      "Displacement (CC) : 2998.832712\n",
      "Displacement (CI) : 183\n",
      "Displacement (L) : 2.998832712\n",
      "Engine Model : J30A4\n",
      "Fuel Type - Primary : Gasoline\n",
      "Valve Train Design : Single Overhead Cam (SOHC)\n",
      "Engine Configuration : V-Shaped\n",
      "Engine Brake (hp) From : 240\n",
      "Seat Belt Type : Manual\n",
      "Other Restraint System Info : Seat Belt (Rr center position)\n",
      "Curtain Air Bag Locations : 1st and 2nd Rows\n",
      "Front Air Bag Locations : 1st Row (Driver and Passenger)\n",
      "Side Air Bag Locations : 1st Row (Driver and Passenger)\n",
      "\n",
      "Vehicle Info App\n",
      "\n",
      "        1.Get models by make\n",
      "        2.Get vehicle info by vin\n",
      "        3.Exit\n",
      "        \n"
     ]
    },
    {
     "name": "stdin",
     "output_type": "stream",
     "text": [
      "Enter your choice:  3\n"
     ]
    },
    {
     "name": "stdout",
     "output_type": "stream",
     "text": [
      "Thanks for using\n"
     ]
    }
   ],
   "source": [
    "def get_models_by_make(make):\n",
    "    url = f\"https://vpic.nhtsa.dot.gov/api/vehicles/GetModelsForMake/{make}?format=json\"\n",
    "    response = requests.get(url)\n",
    "    data = response.json()\n",
    "    results = data.get('Results',[])\n",
    "\n",
    "    if results:\n",
    "        print(f\"\\nModels for make: {make}\")\n",
    "        for item in results:\n",
    "            print(f\"-{item['Model_Name']}\")\n",
    "    else:\n",
    "        print(\"No models for this make\")\n",
    "\n",
    "def get_vehicle_by_vin(vin):\n",
    "    url = f\"https://vpic.nhtsa.dot.gov/api/vehicles/DecodeVin/{vin}?format=json\"\n",
    "    response = requests.get(url)\n",
    "    data = response.json()\n",
    "    results = data.get('Results',[])\n",
    "\n",
    "    print(f\"\\nVehicle for vin: {vin}\")\n",
    "    for item in results:\n",
    "        if item['Value']:\n",
    "            print(f\"{item['Variable']} : {item['Value']}\")\n",
    "\n",
    "def main():\n",
    "    while True:\n",
    "        print(\"\\nVehicle Info App\")\n",
    "        print(\"\"\"\n",
    "        1.Get models by make\n",
    "        2.Get vehicle info by vin\n",
    "        3.Exit\n",
    "        \"\"\")\n",
    "        choice = input(\"Enter your choice: \")\n",
    "        if choice == '1':\n",
    "            make = input(\"Enter make:\")\n",
    "            get_models_by_make(make)\n",
    "        elif choice == '2':\n",
    "            vin = input(\"Enter vin:\")\n",
    "            get_vehicle_by_vin(vin)\n",
    "        elif choice == '3':\n",
    "            print(\"Thanks for using\")\n",
    "            break\n",
    "        else:\n",
    "            print(\"Invalid choice.Enter valid choice.\")\n",
    "            # main()\n",
    "main()"
   ]
  },
  {
   "cell_type": "code",
   "execution_count": null,
   "id": "e57d1a6d-45b1-4f47-ac6e-bb7c48b1f498",
   "metadata": {},
   "outputs": [],
   "source": []
  }
 ],
 "metadata": {
  "kernelspec": {
   "display_name": "Python 3 (ipykernel)",
   "language": "python",
   "name": "python3"
  },
  "language_info": {
   "codemirror_mode": {
    "name": "ipython",
    "version": 3
   },
   "file_extension": ".py",
   "mimetype": "text/x-python",
   "name": "python",
   "nbconvert_exporter": "python",
   "pygments_lexer": "ipython3",
   "version": "3.13.0"
  }
 },
 "nbformat": 4,
 "nbformat_minor": 5
}
